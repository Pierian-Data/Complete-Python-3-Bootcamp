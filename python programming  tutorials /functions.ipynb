{
 "cells": [
  {
   "cell_type": "markdown",
   "metadata": {},
   "source": [
    "def fun_name(arguments):\n",
    "\n",
    "        -----\n",
    "fun_call()"
   ]
  },
  {
   "cell_type": "code",
   "execution_count": 8,
   "metadata": {},
   "outputs": [
    {
     "name": "stdout",
     "output_type": "stream",
     "text": [
      "my name is  ajay\n"
     ]
    }
   ],
   "source": [
    "def fun(s):\n",
    "    print(\"my name is \",s)\n",
    "fun(\"ajay\")\n"
   ]
  },
  {
   "cell_type": "code",
   "execution_count": 15,
   "metadata": {},
   "outputs": [
    {
     "name": "stdout",
     "output_type": "stream",
     "text": [
      "my name is  ajay\n"
     ]
    }
   ],
   "source": [
    "def fun(*s):\n",
    "    print(\"my name is \",s[0])\n",
    "fun('ajay','ram','tarun')"
   ]
  },
  {
   "cell_type": "code",
   "execution_count": 17,
   "metadata": {},
   "outputs": [
    {
     "name": "stdout",
     "output_type": "stream",
     "text": [
      "my name is  ram\n"
     ]
    }
   ],
   "source": [
    "def fun(s,r,t):\n",
    "    print(\"my name is \",s)\n",
    "fun(r='ajay',s='ram',t='tarun')"
   ]
  },
  {
   "cell_type": "code",
   "execution_count": 25,
   "metadata": {},
   "outputs": [
    {
     "name": "stdout",
     "output_type": "stream",
     "text": [
      "my name is  ram\n",
      "my name is  shyam\n"
     ]
    }
   ],
   "source": [
    "def fun(s=\"ram\"):\n",
    "    print(\"my name is \",s)\n",
    "fun()\n",
    "fun(\"shyam\")"
   ]
  },
  {
   "cell_type": "code",
   "execution_count": null,
   "metadata": {},
   "outputs": [],
   "source": [
    "\n"
   ]
  },
  {
   "cell_type": "code",
   "execution_count": 52,
   "metadata": {},
   "outputs": [
    {
     "data": {
      "text/plain": [
       "5790"
      ]
     },
     "execution_count": 52,
     "metadata": {},
     "output_type": "execute_result"
    }
   ],
   "source": [
    "def fun1(a,b):\n",
    "    s=a+b\n",
    "    return s\n",
    "    \n",
    "fun1(2345,3445)"
   ]
  },
  {
   "cell_type": "code",
   "execution_count": 56,
   "metadata": {},
   "outputs": [
    {
     "name": "stdout",
     "output_type": "stream",
     "text": [
      "[5, 7, 9]\n"
     ]
    }
   ],
   "source": [
    "def tupsum(t1,t2):\n",
    "    x=[]\n",
    "    for i in range(0,len(t1)):\n",
    "        sum=t1[i]+t2[i]\n",
    "        x.append(sum)\n",
    "    print(x)\n",
    "    \n",
    "        \n",
    "tupsum((1,2,3),(4,5,6))\n",
    "        \n",
    "        \n",
    "        \n",
    "    \n"
   ]
  },
  {
   "cell_type": "code",
   "execution_count": 57,
   "metadata": {},
   "outputs": [
    {
     "name": "stdout",
     "output_type": "stream",
     "text": [
      "[5, 7, 9, 10]\n"
     ]
    }
   ],
   "source": [
    "def fun1(a,b):\n",
    "    s=a+b\n",
    "    return s\n",
    "    \n",
    "z=map(fun1,(1,2,3,5),(4,5,6,5))\n",
    "print(list(z))"
   ]
  },
  {
   "cell_type": "code",
   "execution_count": null,
   "metadata": {},
   "outputs": [
    {
     "name": "stdout",
     "output_type": "stream",
     "text": [
      "['kanpur', 'delhi']\n"
     ]
    }
   ],
   "source": [
    "def fun2(a):\n",
    "    if(len(a)>=3):\n",
    "        return a\n",
    "    else:\n",
    "        return False\n",
    "x=('kanpur','xy','delhi')\n",
    "z=filter(fun2,x)\n",
    "print(list(z))\n",
    "    "
   ]
  },
  {
   "cell_type": "code",
   "execution_count": 113,
   "metadata": {},
   "outputs": [
    {
     "name": "stdout",
     "output_type": "stream",
     "text": [
      "['xy']\n"
     ]
    }
   ],
   "source": [
    "def fun2(a):\n",
    "    if(len(a)>=3):\n",
    "        return False\n",
    "    else:\n",
    "        return True\n",
    "x=('kanpur','xy','delhi')\n",
    "z=filter(fun2,x)\n",
    "print(list(z))\n"
   ]
  },
  {
   "cell_type": "code",
   "execution_count": 114,
   "metadata": {},
   "outputs": [
    {
     "name": "stdout",
     "output_type": "stream",
     "text": [
      "['kanpur', 'delhi']\n"
     ]
    }
   ],
   "source": [
    "def fun2(a):\n",
    "    if(len(a)<=3):\n",
    "        return False\n",
    "    else:\n",
    "        return True\n",
    "x=('kanpur','xy','delhi')\n",
    "z=filter(fun2,x)\n",
    "print(list(z))"
   ]
  },
  {
   "cell_type": "code",
   "execution_count": 115,
   "metadata": {},
   "outputs": [
    {
     "name": "stdout",
     "output_type": "stream",
     "text": [
      "5.0\n"
     ]
    }
   ],
   "source": [
    "z=lambda a,b,c:(a+b)/c\n",
    "print(z(5,10,3))"
   ]
  }
 ],
 "metadata": {
  "kernelspec": {
   "display_name": "base",
   "language": "python",
   "name": "python3"
  },
  "language_info": {
   "codemirror_mode": {
    "name": "ipython",
    "version": 3
   },
   "file_extension": ".py",
   "mimetype": "text/x-python",
   "name": "python",
   "nbconvert_exporter": "python",
   "pygments_lexer": "ipython3",
   "version": "3.12.5"
  }
 },
 "nbformat": 4,
 "nbformat_minor": 2
}
