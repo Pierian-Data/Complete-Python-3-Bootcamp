{
 "cells": [
  {
   "cell_type": "code",
   "execution_count": null,
   "metadata": {},
   "outputs": [
    {
     "name": "stdout",
     "output_type": "stream",
     "text": [
      "2\n"
     ]
    }
   ],
   "source": [
    "x= int(input('dividend'))\n",
    "y= int(input('divisor'))\n",
    "if(y<0 or x<0):\n",
    "    ay=abs(y)\n",
    "    ax=abs(x)\n",
    "sum=0\n",
    "count=0\n",
    "while (ax>sum):\n",
    "    sum=sum+ay\n",
    "    count= count+1\n",
    "    \n",
    "    \n",
    "    \n",
    "if(x<0 ^ y<0):\n",
    "    print('-',(count-1))\n",
    "else:\n",
    "    print (count-1)\n",
    "\n",
    "\n",
    "\n",
    "    \n",
    "    \n"
   ]
  }
 ],
 "metadata": {
  "kernelspec": {
   "display_name": "base",
   "language": "python",
   "name": "python3"
  },
  "language_info": {
   "codemirror_mode": {
    "name": "ipython",
    "version": 3
   },
   "file_extension": ".py",
   "mimetype": "text/x-python",
   "name": "python",
   "nbconvert_exporter": "python",
   "pygments_lexer": "ipython3",
   "version": "3.12.5"
  }
 },
 "nbformat": 4,
 "nbformat_minor": 2
}
