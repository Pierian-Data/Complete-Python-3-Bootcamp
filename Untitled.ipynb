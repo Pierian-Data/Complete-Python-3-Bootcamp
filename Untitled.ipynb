{
 "cells": [
  {
   "cell_type": "code",
   "execution_count": 1,
   "id": "14728eef",
   "metadata": {},
   "outputs": [],
   "source": [
    "teams = ['India','Pakistan','SryLanka','Vietnam']"
   ]
  },
  {
   "cell_type": "code",
   "execution_count": null,
   "id": "3fd87752",
   "metadata": {},
   "outputs": [],
   "source": [
    "def match(teams)\n",
    "\n",
    "    first_team = 0\n",
    "    match_team=''\n",
    "    \n",
    "    for country in teams\n",
    "        "
   ]
  }
 ],
 "metadata": {
  "kernelspec": {
   "display_name": "Python 3 (ipykernel)",
   "language": "python",
   "name": "python3"
  },
  "language_info": {
   "codemirror_mode": {
    "name": "ipython",
    "version": 3
   },
   "file_extension": ".py",
   "mimetype": "text/x-python",
   "name": "python",
   "nbconvert_exporter": "python",
   "pygments_lexer": "ipython3",
   "version": "3.10.9"
  }
 },
 "nbformat": 4,
 "nbformat_minor": 5
}
